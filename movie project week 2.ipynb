{
 "cells": [
  {
   "cell_type": "code",
   "execution_count": 1,
   "id": "a29c287f-4ca8-457f-a4e8-78c20392f2d8",
   "metadata": {
    "vscode": {
     "languageId": "python"
    }
   },
   "outputs": [
    {
     "name": "stdout",
     "output_type": "stream",
     "text": [
      "Shape of final master dataset: (46629, 27)\n",
      "\n",
      "Column names in master dataset:\n",
      " ['adult', 'belongs_to_collection', 'budget', 'genres', 'homepage', 'id', 'imdb_id', 'original_language', 'original_title', 'overview', 'popularity', 'poster_path', 'production_companies', 'production_countries', 'release_date', 'revenue', 'runtime', 'spoken_languages', 'status', 'tagline', 'title', 'video', 'vote_average', 'vote_count', 'cast', 'crew', 'keywords']\n"
     ]
    }
   ],
   "source": [
    "import pandas as pd\n",
    "import zipfile\n",
    "\n",
    "keywords_zip_path = \"keywords.csv.zip\"\n",
    "movies_metadata_zip_path = \"movies_metadata.csv.zip\"\n",
    "credits_zip_path = \"credits.csv.zip\"\n",
    "links_csv_path = \"links.csv\"\n",
    "\n",
    "with zipfile.ZipFile(keywords_zip_path, 'r') as zip_ref:\n",
    "    keywords_df = pd.read_csv(zip_ref.open(zip_ref.namelist()[0]))\n",
    "\n",
    "with zipfile.ZipFile(movies_metadata_zip_path, 'r') as zip_ref:\n",
    "    movies_metadata_df = pd.read_csv(zip_ref.open(zip_ref.namelist()[0]), low_memory=False)\n",
    "\n",
    "with zipfile.ZipFile(credits_zip_path, 'r') as zip_ref:\n",
    "    credits_df = pd.read_csv(zip_ref.open(zip_ref.namelist()[0]))\n",
    "\n",
    "links_df = pd.read_csv(links_csv_path)\n",
    "\n",
    "movies_metadata_df['id'] = pd.to_numeric(movies_metadata_df['id'], errors='coerce')\n",
    "movies_metadata_df = movies_metadata_df.dropna(subset=['id'])\n",
    "movies_metadata_df['id'] = movies_metadata_df['id'].astype(int)\n",
    "\n",
    "links_df = links_df.dropna(subset=['tmdbId'])\n",
    "links_df['tmdbId'] = links_df['tmdbId'].astype(int)\n",
    "\n",
    "valid_ids = set(links_df['tmdbId'])\n",
    "\n",
    "movies_metadata_filtered = movies_metadata_df[movies_metadata_df['id'].isin(valid_ids)]\n",
    "credits_filtered = credits_df[credits_df['id'].isin(valid_ids)]\n",
    "keywords_filtered = keywords_df[keywords_df['id'].isin(valid_ids)]\n",
    "\n",
    "merged_df = movies_metadata_filtered.merge(credits_filtered, on='id', how='left')\n",
    "master_dataset = merged_df.merge(keywords_filtered, on='id', how='left')\n",
    "\n",
    "print(\"Shape of final master dataset:\", master_dataset.shape)\n",
    "print(\"\\nColumn names in master dataset:\\n\", master_dataset.columns.tolist())\n"
   ]
  },
  {
   "cell_type": "code",
   "execution_count": null,
   "id": "d59cf50e-55f0-4beb-a4ef-923563508e82",
   "metadata": {},
   "outputs": [],
   "source": []
  }
 ],
 "metadata": {
  "kernelspec": {
   "display_name": "Python 3 (ipykernel)",
   "language": "python",
   "name": "python3"
  },
  "language_info": {
   "codemirror_mode": {
    "name": "ipython",
    "version": 3
   },
   "file_extension": ".py",
   "mimetype": "text/x-python",
   "name": "python",
   "nbconvert_exporter": "python",
   "pygments_lexer": "ipython3",
   "version": "3.12.8"
  }
 },
 "nbformat": 4,
 "nbformat_minor": 5
}
