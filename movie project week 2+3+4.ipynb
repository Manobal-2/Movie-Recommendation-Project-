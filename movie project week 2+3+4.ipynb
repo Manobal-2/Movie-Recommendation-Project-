{
 "cells": [
  {
   "cell_type": "code",
   "execution_count": 23,
   "id": "a29c287f-4ca8-457f-a4e8-78c20392f2d8",
   "metadata": {},
   "outputs": [
    {
     "name": "stdout",
     "output_type": "stream",
     "text": [
      "Shape of final master dataset: (46629, 27)\n",
      "\n",
      "Column names in master dataset:\n",
      " ['adult', 'belongs_to_collection', 'budget', 'genres', 'homepage', 'id', 'imdb_id', 'original_language', 'original_title', 'overview', 'popularity', 'poster_path', 'production_companies', 'production_countries', 'release_date', 'revenue', 'runtime', 'spoken_languages', 'status', 'tagline', 'title', 'video', 'vote_average', 'vote_count', 'cast', 'crew', 'keywords']\n"
     ]
    }
   ],
   "source": [
    "import pandas as pd\n",
    "import numpy as np\n",
    "import matplotlib.pyplot as plt\n",
    "from ast import literal_eval\n",
    "import zipfile\n",
    "\n",
    "\n",
    "keywords_zip_path = \"keywords.csv.zip\"\n",
    "movies_metadata_zip_path = \"movies_metadata.csv.zip\"\n",
    "credits_zip_path = \"credits.csv.zip\"\n",
    "links_csv_path = \"links.csv\"\n",
    "\n",
    "with zipfile.ZipFile(keywords_zip_path, 'r') as zip_ref:\n",
    "    keywords_df = pd.read_csv(zip_ref.open(zip_ref.namelist()[0]))\n",
    "\n",
    "with zipfile.ZipFile(movies_metadata_zip_path, 'r') as zip_ref:\n",
    "    movies_metadata_df = pd.read_csv(zip_ref.open(zip_ref.namelist()[0]), low_memory=False)\n",
    "\n",
    "with zipfile.ZipFile(credits_zip_path, 'r') as zip_ref:\n",
    "    credits_df = pd.read_csv(zip_ref.open(zip_ref.namelist()[0]))\n",
    "\n",
    "links_df = pd.read_csv(links_csv_path)\n",
    "\n",
    "movies_metadata_df['id'] = pd.to_numeric(movies_metadata_df['id'], errors='coerce')\n",
    "movies_metadata_df = movies_metadata_df.dropna(subset=['id'])\n",
    "movies_metadata_df['id'] = movies_metadata_df['id'].astype(int)\n",
    "\n",
    "links_df = links_df.dropna(subset=['tmdbId'])\n",
    "links_df['tmdbId'] = links_df['tmdbId'].astype(int)\n",
    "\n",
    "valid_ids = set(links_df['tmdbId'])\n",
    "\n",
    "movies_metadata_filtered = movies_metadata_df[movies_metadata_df['id'].isin(valid_ids)]\n",
    "credits_filtered = credits_df[credits_df['id'].isin(valid_ids)]\n",
    "keywords_filtered = keywords_df[keywords_df['id'].isin(valid_ids)]\n",
    "\n",
    "merged_df = movies_metadata_filtered.merge(credits_filtered, on='id', how='left')\n",
    "master_dataset = merged_df.merge(keywords_filtered, on='id', how='left')\n",
    "\n",
    "print(\"Shape of final master dataset:\", master_dataset.shape)\n",
    "print(\"\\nColumn names in master dataset:\\n\", master_dataset.columns.tolist())\n"
   ]
  },
  {
   "cell_type": "code",
   "execution_count": 24,
   "id": "d59cf50e-55f0-4beb-a4ef-923563508e82",
   "metadata": {},
   "outputs": [],
   "source": [
    "master_dataset['cast'] = master_dataset['cast'].fillna('[]').apply(literal_eval)\n",
    "master_dataset['crew'] = master_dataset['crew'].fillna('[]').apply(literal_eval)\n",
    "master_dataset['keywords'] = master_dataset['keywords'].fillna('[]').apply(literal_eval)"
   ]
  },
  {
   "cell_type": "code",
   "execution_count": 25,
   "id": "2cf2db84-11ce-41cb-b42c-540a00409e2f",
   "metadata": {},
   "outputs": [],
   "source": [
    "def get_director(x):\n",
    "    for i in x:\n",
    "        if i['job'] == 'Director':\n",
    "            return i['name']\n",
    "    return np.nan"
   ]
  },
  {
   "cell_type": "code",
   "execution_count": 26,
   "id": "6a40510b-1043-4e79-9ab4-2e1ca493b41a",
   "metadata": {},
   "outputs": [
    {
     "name": "stdout",
     "output_type": "stream",
     "text": [
      "keyword\n",
      "woman director      3128\n",
      "independent film    1942\n",
      "murder              1314\n",
      "based on novel       841\n",
      "musical              734\n",
      "Name: count, dtype: int64\n"
     ]
    }
   ],
   "source": [
    "master_dataset['cast']      = master_dataset['cast'].apply(lambda x: [i['name'] for i in x] if isinstance(x, list) else [])\n",
    "master_dataset['cast']      = master_dataset['cast'].apply(lambda x: x[:3] if len(x) >=3 else x)\n",
    "master_dataset['keywords']  = master_dataset['keywords'].apply(lambda x: [i['name'] for i in x] if isinstance(x, list) else [])\n",
    "master_dataset['director']  = master_dataset['crew'].apply(get_director)\n",
    "master_dataset['cast']          = master_dataset['cast'].apply(lambda x: [str.lower(i.replace(\" \", \"\")) for i in x])\n",
    "master_dataset['main_director'] = master_dataset['director']\n",
    "master_dataset['director']      = master_dataset['director'].astype('str').apply(lambda x: str.lower(x.replace(\" \", \"\")))\n",
    "master_dataset['director']      = master_dataset['director'].apply(lambda x: [x,x,x])\n",
    "s = master_dataset.apply(lambda x: pd.Series(x['keywords']),axis=1).stack().reset_index(level=1, drop=True)\n",
    "s.name = 'keyword'\n",
    "s = s.value_counts()\n",
    "print(s[:5])"
   ]
  },
  {
   "cell_type": "code",
   "execution_count": 27,
   "id": "aab97784-ce8f-424e-9bc3-917ae44d33b1",
   "metadata": {},
   "outputs": [],
   "source": [
    "s = s[s > 1]"
   ]
  },
  {
   "cell_type": "code",
   "execution_count": 28,
   "id": "d83efb39-379d-4d0a-a86c-198c2c5fe828",
   "metadata": {},
   "outputs": [
    {
     "data": {
      "text/plain": [
       "0    [jealousi, toy, boy, friendship, friend, rival...\n",
       "1    [boardgam, disappear, basedonchildren'sbook, n...\n",
       "2       [fish, bestfriend, duringcreditssting, oldmen]\n",
       "Name: keywords, dtype: object"
      ]
     },
     "execution_count": 28,
     "metadata": {},
     "output_type": "execute_result"
    }
   ],
   "source": [
    "from nltk.stem.snowball import SnowballStemmer\n",
    "stemmer = SnowballStemmer('english')\n",
    "master_dataset['keywords'] = master_dataset['keywords'].apply(\n",
    "    lambda x: [stemmer.stem(i) for i in x if len(i) > 1]\n",
    ")\n",
    "master_dataset['keywords'] = master_dataset['keywords'].apply(\n",
    "    lambda x: [i.replace(\" \", \"\").lower() for i in x]\n",
    ")\n",
    "master_dataset['keywords'].head(3)"
   ]
  },
  {
   "cell_type": "code",
   "execution_count": 29,
   "id": "83b1a7e2-a6ff-4d0c-ab31-4dabac670ae2",
   "metadata": {},
   "outputs": [
    {
     "data": {
      "text/plain": [
       "0    jealousi toy boy friendship friend rivalri boy...\n",
       "1    boardgam disappear basedonchildren'sbook newho...\n",
       "2    fish bestfriend duringcreditssting oldmen walt...\n",
       "Name: soup, dtype: object"
      ]
     },
     "execution_count": 29,
     "metadata": {},
     "output_type": "execute_result"
    }
   ],
   "source": [
    "for col in ['keywords', 'cast', 'director', 'genres']:\n",
    "    master_dataset[col] = master_dataset[col].apply(lambda x: x if isinstance(x, list) else [])\n",
    "master_dataset['soup'] = master_dataset['keywords'] + master_dataset['cast'] + master_dataset['director'] + master_dataset['genres']\n",
    "master_dataset['soup'] = master_dataset['soup'].apply(lambda x: ' '.join([str(i) for i in x]))\n",
    "master_dataset['soup'].head(3)"
   ]
  },
  {
   "cell_type": "code",
   "execution_count": 30,
   "id": "ccea1249-626f-4c9e-b38a-0e434900b08c",
   "metadata": {},
   "outputs": [
    {
     "name": "stdout",
     "output_type": "stream",
     "text": [
      "Index(['adult', 'belongs_to_collection', 'budget', 'genres', 'homepage', 'id',\n",
      "       'imdb_id', 'original_language', 'original_title', 'overview',\n",
      "       'popularity', 'poster_path', 'production_companies',\n",
      "       'production_countries', 'release_date', 'revenue', 'runtime',\n",
      "       'spoken_languages', 'status', 'tagline', 'title', 'video',\n",
      "       'vote_average', 'vote_count', 'cast', 'crew', 'keywords', 'director',\n",
      "       'main_director', 'soup'],\n",
      "      dtype='object')\n"
     ]
    }
   ],
   "source": [
    "print(master_dataset.columns)"
   ]
  },
  {
   "cell_type": "code",
   "execution_count": 33,
   "id": "bc59324f-c598-45d5-8b13-a606d8ddae1a",
   "metadata": {},
   "outputs": [],
   "source": [
    "master_dataset.to_csv('master_dataset_new.csv', index=False)"
   ]
  },
  {
   "cell_type": "markdown",
   "id": "55f65723-b297-4820-b29a-37c8cbeb247f",
   "metadata": {},
   "source": [
    "#### Week 4"
   ]
  },
  {
   "cell_type": "code",
   "execution_count": 34,
   "id": "b5adaa40-5622-4770-bb87-ef098ec07ae9",
   "metadata": {},
   "outputs": [
    {
     "name": "stdout",
     "output_type": "stream",
     "text": [
      "Index(['adult', 'belongs_to_collection', 'budget', 'genres', 'homepage', 'id',\n",
      "       'imdb_id', 'original_language', 'original_title', 'overview',\n",
      "       'popularity', 'poster_path', 'production_companies',\n",
      "       'production_countries', 'release_date', 'revenue', 'runtime',\n",
      "       'spoken_languages', 'status', 'tagline', 'title', 'video',\n",
      "       'vote_average', 'vote_count', 'cast', 'crew', 'keywords', 'director',\n",
      "       'main_director', 'soup'],\n",
      "      dtype='object')\n"
     ]
    }
   ],
   "source": [
    "master_dataset_new = pd.read_csv('master_dataset_new.csv')\n",
    "print(master_dataset_new.columns)"
   ]
  },
  {
   "cell_type": "code",
   "execution_count": 35,
   "id": "26abfad7-9221-4ce5-a152-e2cc5876eb16",
   "metadata": {},
   "outputs": [],
   "source": [
    "master_dataset_new.drop(['adult', 'belongs_to_collection', 'budget','homepage','original_language', 'production_companies','production_countries', 'revenue', 'runtime','spoken_languages','status','video'],axis=1,inplace=True)\n",
    "master_dataset_new.drop(['overview', 'tagline','vote_average', 'vote_count', 'cast', 'crew','keywords', 'director'],axis=1,inplace=True)\n",
    "master_dataset_new.drop(['id','imdb_id','original_title','poster_path','genres'],axis=1,inplace=True)\n",
    "master_dataset_new['popularity'] = master_dataset_new.apply(lambda r: r['popularity'] if type(r['popularity']) == float else np.nan, axis=1)\n",
    "master_dataset_new.dropna(inplace=True)\n",
    "master_dataset_new['main_director'] = master_dataset_new.apply(lambda r: r['main_director'] if len(r['main_director']) > 1 else np.nan, axis=1)\n",
    "master_dataset_new.dropna(inplace=True)\n",
    "master_dataset_new.sort_values(by='popularity', ascending=False, inplace=True)\n",
    "master_dataset_new.drop(['popularity'], axis=1, inplace=True)\n",
    "master_dataset_new.dropna(inplace=True)\n",
    "master_dataset_new.reset_index(inplace=True, drop=True)\n",
    "master_dataset_new['release_date'] = master_dataset_new.apply(lambda r: r['release_date'] if len(r['release_date']) > 1 else np.nan, axis=1)\n",
    "master_dataset_new.dropna(inplace=True)\n",
    "master_dataset_new = master_dataset_new[:2500]\n"
   ]
  },
  {
   "cell_type": "code",
   "execution_count": 36,
   "id": "f9477d02-e772-49ca-b094-e1bd821edd41",
   "metadata": {},
   "outputs": [
    {
     "data": {
      "text/html": [
       "<div>\n",
       "<style scoped>\n",
       "    .dataframe tbody tr th:only-of-type {\n",
       "        vertical-align: middle;\n",
       "    }\n",
       "\n",
       "    .dataframe tbody tr th {\n",
       "        vertical-align: top;\n",
       "    }\n",
       "\n",
       "    .dataframe thead th {\n",
       "        text-align: right;\n",
       "    }\n",
       "</style>\n",
       "<table border=\"1\" class=\"dataframe\">\n",
       "  <thead>\n",
       "    <tr style=\"text-align: right;\">\n",
       "      <th></th>\n",
       "      <th>release_date</th>\n",
       "      <th>title</th>\n",
       "      <th>main_director</th>\n",
       "      <th>soup</th>\n",
       "    </tr>\n",
       "  </thead>\n",
       "  <tbody>\n",
       "    <tr>\n",
       "      <th>0</th>\n",
       "      <td>2015-06-17</td>\n",
       "      <td>Minions</td>\n",
       "      <td>Kyle Balda</td>\n",
       "      <td>assist aftercreditssting duringcreditssting ev...</td>\n",
       "    </tr>\n",
       "    <tr>\n",
       "      <th>1</th>\n",
       "      <td>2017-05-30</td>\n",
       "      <td>Wonder Woman</td>\n",
       "      <td>Patty Jenkins</td>\n",
       "      <td>dccomic hero greekmytholog island worldwari su...</td>\n",
       "    </tr>\n",
       "    <tr>\n",
       "      <th>2</th>\n",
       "      <td>2017-03-16</td>\n",
       "      <td>Beauty and the Beast</td>\n",
       "      <td>Bill Condon</td>\n",
       "      <td>franc magic castl fairytal music curs anthropo...</td>\n",
       "    </tr>\n",
       "    <tr>\n",
       "      <th>3</th>\n",
       "      <td>2017-06-28</td>\n",
       "      <td>Baby Driver</td>\n",
       "      <td>Edgar Wright</td>\n",
       "      <td>robberi atlanta music crimeboss romanc tinnitu...</td>\n",
       "    </tr>\n",
       "    <tr>\n",
       "      <th>4</th>\n",
       "      <td>2014-10-24</td>\n",
       "      <td>Big Hero 6</td>\n",
       "      <td>Chris Williams</td>\n",
       "      <td>brotherbrotherrelationship hero talent reveng ...</td>\n",
       "    </tr>\n",
       "  </tbody>\n",
       "</table>\n",
       "</div>"
      ],
      "text/plain": [
       "  release_date                 title   main_director  \\\n",
       "0   2015-06-17               Minions      Kyle Balda   \n",
       "1   2017-05-30          Wonder Woman   Patty Jenkins   \n",
       "2   2017-03-16  Beauty and the Beast     Bill Condon   \n",
       "3   2017-06-28           Baby Driver    Edgar Wright   \n",
       "4   2014-10-24            Big Hero 6  Chris Williams   \n",
       "\n",
       "                                                soup  \n",
       "0  assist aftercreditssting duringcreditssting ev...  \n",
       "1  dccomic hero greekmytholog island worldwari su...  \n",
       "2  franc magic castl fairytal music curs anthropo...  \n",
       "3  robberi atlanta music crimeboss romanc tinnitu...  \n",
       "4  brotherbrotherrelationship hero talent reveng ...  "
      ]
     },
     "execution_count": 36,
     "metadata": {},
     "output_type": "execute_result"
    }
   ],
   "source": [
    "master_dataset_new.head()"
   ]
  },
  {
   "cell_type": "code",
   "execution_count": 37,
   "id": "bae233ce-9868-40bb-9cb9-ac9fc8d0b2d1",
   "metadata": {},
   "outputs": [
    {
     "name": "stdout",
     "output_type": "stream",
     "text": [
      "(2500, 4)\n"
     ]
    }
   ],
   "source": [
    "print(master_dataset_new.shape)"
   ]
  },
  {
   "cell_type": "code",
   "execution_count": 38,
   "id": "593c2020-be48-4c0b-b535-e28bc0cef86e",
   "metadata": {},
   "outputs": [],
   "source": [
    "master_dataset_new.to_csv('master_dataset_final.csv', index=False)"
   ]
  },
  {
   "cell_type": "code",
   "execution_count": null,
   "id": "779f3f0b-1615-4c56-913a-dd74ed14c80b",
   "metadata": {},
   "outputs": [],
   "source": []
  }
 ],
 "metadata": {
  "kernelspec": {
   "display_name": "Python 3 (ipykernel)",
   "language": "python",
   "name": "python3"
  },
  "language_info": {
   "codemirror_mode": {
    "name": "ipython",
    "version": 3
   },
   "file_extension": ".py",
   "mimetype": "text/x-python",
   "name": "python",
   "nbconvert_exporter": "python",
   "pygments_lexer": "ipython3",
   "version": "3.12.8"
  }
 },
 "nbformat": 4,
 "nbformat_minor": 5
}
